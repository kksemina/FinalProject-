{
 "cells": [
  {
   "cell_type": "markdown",
   "metadata": {},
   "source": [
    "# Apples to Oranges\n",
    "\n",
    "The goal for this excersise is to write a program that converts apples to oranges and identify how many records you were able to match."
   ]
  },
  {
   "cell_type": "code",
   "execution_count": null,
   "metadata": {},
   "outputs": [],
   "source": [
    "import pandas as pd"
   ]
  },
  {
   "cell_type": "markdown",
   "metadata": {},
   "source": [
    "Importing TXT files and reasing them as lists"
   ]
  },
  {
   "cell_type": "code",
   "execution_count": 143,
   "metadata": {},
   "outputs": [
    {
     "data": {
      "text/plain": [
       "['Buffalo city',\n",
       " 'Philadelphia city',\n",
       " 'Paris city',\n",
       " 'Los Angeles city',\n",
       " 'Boston city',\n",
       " 'Lansing city',\n",
       " 'Ann Arbor city',\n",
       " 'Indianapolis city']"
      ]
     },
     "execution_count": 143,
     "metadata": {},
     "output_type": "execute_result"
    }
   ],
   "source": [
    "apples = pd.read_csv('apples.txt', names=[\"City\"])\n",
    "apples.City.to_list()"
   ]
  },
  {
   "cell_type": "code",
   "execution_count": 136,
   "metadata": {
    "scrolled": true
   },
   "outputs": [
    {
     "data": {
      "text/plain": [
       "['city of Paris, TX',\n",
       " 'city of Philadelphia, PA',\n",
       " 'city of Buffalo, NY',\n",
       " 'city of Lansing, MI',\n",
       " 'city of Ann Arbor, MI',\n",
       " 'city of Boston, MA',\n",
       " 'city of Indianapolis, IN',\n",
       " 'city of San Francisco, CA']"
      ]
     },
     "execution_count": 136,
     "metadata": {},
     "output_type": "execute_result"
    }
   ],
   "source": [
    "oranges = pd.read_csv('oranges.txt', names =[\"City\"], sep =\"\\t\")\n",
    "oranges.City.to_list()"
   ]
  },
  {
   "cell_type": "markdown",
   "metadata": {},
   "source": [
    "Converting Apples to the same address structure as Oranges"
   ]
  },
  {
   "cell_type": "code",
   "execution_count": 137,
   "metadata": {},
   "outputs": [
    {
     "name": "stdout",
     "output_type": "stream",
     "text": [
      "0         city of Buffalo\n",
      "1    city of Philadelphia\n",
      "2           city of Paris\n",
      "3     city of Los Angeles\n",
      "4          city of Boston\n",
      "5         city of Lansing\n",
      "6       city of Ann Arbor\n",
      "7    city of Indianapolis\n",
      "Name: City2, dtype: object\n"
     ]
    }
   ],
   "source": [
    "\n",
    "apples['City2'] = apples.City \n",
    "apples.City2 = apples.City2.str.replace(' city','')\n",
    "apples.City2 = 'city of '+ apples.City2\n",
    "oranges.City.sort_values()\n",
    "\n",
    "\n",
    "#Also changing oranges to match the same address style and creating a new variable \n",
    "listoranges = oranges.City.str.split(',', expand=True)[0]\n",
    "\n",
    "print(apples.City2)\n",
    "\n",
    "\n",
    "  "
   ]
  },
  {
   "cell_type": "markdown",
   "metadata": {},
   "source": [
    "Converting to list format "
   ]
  },
  {
   "cell_type": "code",
   "execution_count": 138,
   "metadata": {},
   "outputs": [
    {
     "name": "stdout",
     "output_type": "stream",
     "text": [
      "['city of Paris', 'city of Philadelphia', 'city of Buffalo', 'city of Lansing', 'city of Ann Arbor', 'city of Boston', 'city of Indianapolis', 'city of San Francisco']\n",
      "8\n"
     ]
    }
   ],
   "source": [
    "list1 = apples.City2.to_list()\n",
    "list2 = listoranges.to_list()"
   ]
  },
  {
   "cell_type": "markdown",
   "metadata": {},
   "source": [
    "Looking at the two lists, its components and how many addresses there are "
   ]
  },
  {
   "cell_type": "code",
   "execution_count": 150,
   "metadata": {},
   "outputs": [
    {
     "name": "stdout",
     "output_type": "stream",
     "text": [
      "['city of Paris', 'city of Philadelphia', 'city of Buffalo', 'city of Lansing', 'city of Ann Arbor', 'city of Boston', 'city of Indianapolis', 'city of San Francisco']\n",
      "8\n"
     ]
    }
   ],
   "source": [
    "print(list2)\n",
    "print(len(list2))"
   ]
  },
  {
   "cell_type": "code",
   "execution_count": 139,
   "metadata": {},
   "outputs": [
    {
     "name": "stdout",
     "output_type": "stream",
     "text": [
      "['city of Buffalo', 'city of Philadelphia', 'city of Paris', 'city of Los Angeles', 'city of Boston', 'city of Lansing', 'city of Ann Arbor', 'city of Indianapolis']\n",
      "8\n"
     ]
    }
   ],
   "source": [
    "print(list1)\n",
    "print(len(list1))"
   ]
  },
  {
   "cell_type": "markdown",
   "metadata": {},
   "source": [
    "Creating a loop to go through items in list 1 and match them to items in list 2. Then adding the matched items into a new list called \"matchlist\"."
   ]
  },
  {
   "cell_type": "code",
   "execution_count": 140,
   "metadata": {},
   "outputs": [
    {
     "name": "stdout",
     "output_type": "stream",
     "text": [
      "['city of Buffalo', 'city of Philadelphia', 'city of Paris', 'city of Boston', 'city of Lansing', 'city of Ann Arbor', 'city of Indianapolis']\n"
     ]
    }
   ],
   "source": [
    "matchlist = []\n",
    "\n",
    "for i in list1:\n",
    "    if i in list2:\n",
    "        matchlist.append(i)\n",
    "        \n",
    "print(matchlist)        \n"
   ]
  },
  {
   "cell_type": "markdown",
   "metadata": {},
   "source": [
    "Looking at how many items we were able to match between the two lists \n"
   ]
  },
  {
   "cell_type": "code",
   "execution_count": 149,
   "metadata": {},
   "outputs": [
    {
     "name": "stdout",
     "output_type": "stream",
     "text": [
      "7\n"
     ]
    }
   ],
   "source": [
    "print(len(matchlist))"
   ]
  },
  {
   "cell_type": "markdown",
   "metadata": {},
   "source": [
    "# Conclusion: \n",
    "\n",
    "There were 7 total matches between list 1 and list 2\n",
    "    \n",
    "    • city of Buffalo \n",
    "    • city of Philadelphia \n",
    "    • city of Paris \n",
    "    • city of Boston \n",
    "    • city of Lansing \n",
    "    • city of Ann Arbor\n",
    "    • city of Indianapolis \n",
    "    \n",
    " city of San Francisco was not in list 1 \n",
    " \n",
    " city of Los Angeles was not in list 2 \n",
    "    "
   ]
  }
 ],
 "metadata": {
  "kernelspec": {
   "display_name": "Python 3",
   "language": "python",
   "name": "python3"
  },
  "language_info": {
   "codemirror_mode": {
    "name": "ipython",
    "version": 3
   },
   "file_extension": ".py",
   "mimetype": "text/x-python",
   "name": "python",
   "nbconvert_exporter": "python",
   "pygments_lexer": "ipython3",
   "version": "3.8.5"
  }
 },
 "nbformat": 4,
 "nbformat_minor": 4
}
