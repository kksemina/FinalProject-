{
 "cells": [
  {
   "cell_type": "markdown",
   "metadata": {},
   "source": [
    "1) Load the Yelp reviews dataPreview the document\n",
    "\n",
    "2) Recode ratings into a binary variable: rating < 4 --> 0; rating >= 4 --> 1\n",
    "\n",
    "3) Split the data into training and testing portions\n",
    "\n",
    "4) Estimate the new binary ratings variable with logistic regression and SVM models\n",
    "\n",
    "    a) compare accuracy across training and testing datasets\n",
    "    \n",
    "    b) compare b/w the two types of models\n",
    "    \n",
    "5) Find the features with the largest magnitude. How do the results change if you reduce the model to these features?\n",
    "\n",
    "6) Compare results with different values of the C parameter\n",
    "\n",
    "7) Use cross-validation to compare the results of your best model across different data splits. How much confidence should you have in the accuracy of your model for new data?\n",
    "\n"
   ]
  },
  {
   "cell_type": "code",
   "execution_count": 3,
   "metadata": {},
   "outputs": [],
   "source": [
    "#import packages\n",
    "import pandas as pd\n",
    "import numpy as np\n",
    "from sklearn.linear_model import LogisticRegression\n",
    "from sklearn.svm import SVC\n",
    "from sklearn.model_selection import train_test_split\n",
    "from sklearn.model_selection import cross_val_score\n",
    "import time"
   ]
  },
  {
   "cell_type": "code",
   "execution_count": 4,
   "metadata": {},
   "outputs": [
    {
     "name": "stdout",
     "output_type": "stream",
     "text": [
      "(10000, 33) ['REST_ID', 'UserId', 'Rating', 'rev_elite', 'rev_reviews', 'rest_reviews', 'yr_2007', 'yr_2008', 'yr_2009', 'yr_2010', 'yr_2011', 'yr_2012', 'yr_2013', 'yr_2014', 'yr_2015', 'yr_2016', 'price_2', 'price_3', 'price_4', 'cat_span', 'americannew', 'americantraditional', 'breakfastbrunch', 'burgers', 'chickenwings', 'chinese', 'coffeetea', 'italian', 'mexican', 'pizza', 'valence', 'review_length', 'review_exclaims']\n"
     ]
    },
    {
     "data": {
      "text/html": [
       "<div>\n",
       "<style scoped>\n",
       "    .dataframe tbody tr th:only-of-type {\n",
       "        vertical-align: middle;\n",
       "    }\n",
       "\n",
       "    .dataframe tbody tr th {\n",
       "        vertical-align: top;\n",
       "    }\n",
       "\n",
       "    .dataframe thead th {\n",
       "        text-align: right;\n",
       "    }\n",
       "</style>\n",
       "<table border=\"1\" class=\"dataframe\">\n",
       "  <thead>\n",
       "    <tr style=\"text-align: right;\">\n",
       "      <th></th>\n",
       "      <th>REST_ID</th>\n",
       "      <th>UserId</th>\n",
       "      <th>Rating</th>\n",
       "      <th>rev_elite</th>\n",
       "      <th>rev_reviews</th>\n",
       "      <th>rest_reviews</th>\n",
       "      <th>yr_2007</th>\n",
       "      <th>yr_2008</th>\n",
       "      <th>yr_2009</th>\n",
       "      <th>yr_2010</th>\n",
       "      <th>...</th>\n",
       "      <th>burgers</th>\n",
       "      <th>chickenwings</th>\n",
       "      <th>chinese</th>\n",
       "      <th>coffeetea</th>\n",
       "      <th>italian</th>\n",
       "      <th>mexican</th>\n",
       "      <th>pizza</th>\n",
       "      <th>valence</th>\n",
       "      <th>review_length</th>\n",
       "      <th>review_exclaims</th>\n",
       "    </tr>\n",
       "  </thead>\n",
       "  <tbody>\n",
       "    <tr>\n",
       "      <th>0</th>\n",
       "      <td>37489</td>\n",
       "      <td>si7I-78ZlyZJJ0XNLk0QKA</td>\n",
       "      <td>2.0</td>\n",
       "      <td>0</td>\n",
       "      <td>4.0</td>\n",
       "      <td>146</td>\n",
       "      <td>0</td>\n",
       "      <td>0</td>\n",
       "      <td>0</td>\n",
       "      <td>0</td>\n",
       "      <td>...</td>\n",
       "      <td>0</td>\n",
       "      <td>0</td>\n",
       "      <td>0</td>\n",
       "      <td>0</td>\n",
       "      <td>0</td>\n",
       "      <td>0</td>\n",
       "      <td>0</td>\n",
       "      <td>0.000000</td>\n",
       "      <td>74</td>\n",
       "      <td>0</td>\n",
       "    </tr>\n",
       "    <tr>\n",
       "      <th>1</th>\n",
       "      <td>4737</td>\n",
       "      <td>zl_CUtQu8Kch8G4-81dybg</td>\n",
       "      <td>1.0</td>\n",
       "      <td>0</td>\n",
       "      <td>8.0</td>\n",
       "      <td>91</td>\n",
       "      <td>0</td>\n",
       "      <td>0</td>\n",
       "      <td>0</td>\n",
       "      <td>0</td>\n",
       "      <td>...</td>\n",
       "      <td>0</td>\n",
       "      <td>0</td>\n",
       "      <td>0</td>\n",
       "      <td>0</td>\n",
       "      <td>0</td>\n",
       "      <td>0</td>\n",
       "      <td>0</td>\n",
       "      <td>0.037037</td>\n",
       "      <td>27</td>\n",
       "      <td>0</td>\n",
       "    </tr>\n",
       "    <tr>\n",
       "      <th>2</th>\n",
       "      <td>16656</td>\n",
       "      <td>0yC3XHXfT64Lg4L9puKPYA</td>\n",
       "      <td>5.0</td>\n",
       "      <td>0</td>\n",
       "      <td>43.0</td>\n",
       "      <td>439</td>\n",
       "      <td>0</td>\n",
       "      <td>0</td>\n",
       "      <td>0</td>\n",
       "      <td>0</td>\n",
       "      <td>...</td>\n",
       "      <td>0</td>\n",
       "      <td>0</td>\n",
       "      <td>0</td>\n",
       "      <td>0</td>\n",
       "      <td>0</td>\n",
       "      <td>0</td>\n",
       "      <td>0</td>\n",
       "      <td>0.035714</td>\n",
       "      <td>84</td>\n",
       "      <td>4</td>\n",
       "    </tr>\n",
       "    <tr>\n",
       "      <th>3</th>\n",
       "      <td>14025</td>\n",
       "      <td>F2PbVEVwAwXdk2c9T8qvxA</td>\n",
       "      <td>5.0</td>\n",
       "      <td>0</td>\n",
       "      <td>17.0</td>\n",
       "      <td>78</td>\n",
       "      <td>0</td>\n",
       "      <td>0</td>\n",
       "      <td>0</td>\n",
       "      <td>0</td>\n",
       "      <td>...</td>\n",
       "      <td>0</td>\n",
       "      <td>0</td>\n",
       "      <td>0</td>\n",
       "      <td>0</td>\n",
       "      <td>0</td>\n",
       "      <td>0</td>\n",
       "      <td>0</td>\n",
       "      <td>0.129032</td>\n",
       "      <td>31</td>\n",
       "      <td>0</td>\n",
       "    </tr>\n",
       "    <tr>\n",
       "      <th>4</th>\n",
       "      <td>6088</td>\n",
       "      <td>SvM0wsD5b1s3jYCqlMXc6A</td>\n",
       "      <td>5.0</td>\n",
       "      <td>0</td>\n",
       "      <td>14.0</td>\n",
       "      <td>163</td>\n",
       "      <td>0</td>\n",
       "      <td>0</td>\n",
       "      <td>0</td>\n",
       "      <td>0</td>\n",
       "      <td>...</td>\n",
       "      <td>0</td>\n",
       "      <td>0</td>\n",
       "      <td>0</td>\n",
       "      <td>0</td>\n",
       "      <td>0</td>\n",
       "      <td>0</td>\n",
       "      <td>1</td>\n",
       "      <td>0.050000</td>\n",
       "      <td>80</td>\n",
       "      <td>4</td>\n",
       "    </tr>\n",
       "  </tbody>\n",
       "</table>\n",
       "<p>5 rows × 33 columns</p>\n",
       "</div>"
      ],
      "text/plain": [
       "   REST_ID                  UserId  Rating  rev_elite  rev_reviews  \\\n",
       "0    37489  si7I-78ZlyZJJ0XNLk0QKA     2.0          0          4.0   \n",
       "1     4737  zl_CUtQu8Kch8G4-81dybg     1.0          0          8.0   \n",
       "2    16656  0yC3XHXfT64Lg4L9puKPYA     5.0          0         43.0   \n",
       "3    14025  F2PbVEVwAwXdk2c9T8qvxA     5.0          0         17.0   \n",
       "4     6088  SvM0wsD5b1s3jYCqlMXc6A     5.0          0         14.0   \n",
       "\n",
       "   rest_reviews  yr_2007  yr_2008  yr_2009  yr_2010  ...  burgers  \\\n",
       "0           146        0        0        0        0  ...        0   \n",
       "1            91        0        0        0        0  ...        0   \n",
       "2           439        0        0        0        0  ...        0   \n",
       "3            78        0        0        0        0  ...        0   \n",
       "4           163        0        0        0        0  ...        0   \n",
       "\n",
       "   chickenwings  chinese  coffeetea  italian  mexican  pizza   valence  \\\n",
       "0             0        0          0        0        0      0  0.000000   \n",
       "1             0        0          0        0        0      0  0.037037   \n",
       "2             0        0          0        0        0      0  0.035714   \n",
       "3             0        0          0        0        0      0  0.129032   \n",
       "4             0        0          0        0        0      1  0.050000   \n",
       "\n",
       "   review_length  review_exclaims  \n",
       "0             74                0  \n",
       "1             27                0  \n",
       "2             84                4  \n",
       "3             31                0  \n",
       "4             80                4  \n",
       "\n",
       "[5 rows x 33 columns]"
      ]
     },
     "execution_count": 4,
     "metadata": {},
     "output_type": "execute_result"
    }
   ],
   "source": [
    "# 1) Load the Yelp reviews dataPreview the document\n",
    "df = pd.read_csv('yelp_reviews-2.csv')\n",
    "print(df.shape, df.columns.to_list())\n",
    "df.head()"
   ]
  },
  {
   "cell_type": "code",
   "execution_count": 5,
   "metadata": {},
   "outputs": [],
   "source": [
    "df.fillna(0, inplace=True)"
   ]
  },
  {
   "cell_type": "markdown",
   "metadata": {},
   "source": [
    "# Creating a new binary variable\n",
    "Recoding \"Rating\" to show yelp businesses with rating only 4 or above\n"
   ]
  },
  {
   "cell_type": "code",
   "execution_count": 6,
   "metadata": {
    "scrolled": true
   },
   "outputs": [
    {
     "data": {
      "text/html": [
       "<div>\n",
       "<style scoped>\n",
       "    .dataframe tbody tr th:only-of-type {\n",
       "        vertical-align: middle;\n",
       "    }\n",
       "\n",
       "    .dataframe tbody tr th {\n",
       "        vertical-align: top;\n",
       "    }\n",
       "\n",
       "    .dataframe thead th {\n",
       "        text-align: right;\n",
       "    }\n",
       "</style>\n",
       "<table border=\"1\" class=\"dataframe\">\n",
       "  <thead>\n",
       "    <tr style=\"text-align: right;\">\n",
       "      <th></th>\n",
       "      <th>REST_ID</th>\n",
       "      <th>UserId</th>\n",
       "      <th>Rating</th>\n",
       "      <th>rev_elite</th>\n",
       "      <th>rev_reviews</th>\n",
       "      <th>rest_reviews</th>\n",
       "      <th>yr_2007</th>\n",
       "      <th>yr_2008</th>\n",
       "      <th>yr_2009</th>\n",
       "      <th>yr_2010</th>\n",
       "      <th>...</th>\n",
       "      <th>chickenwings</th>\n",
       "      <th>chinese</th>\n",
       "      <th>coffeetea</th>\n",
       "      <th>italian</th>\n",
       "      <th>mexican</th>\n",
       "      <th>pizza</th>\n",
       "      <th>valence</th>\n",
       "      <th>review_length</th>\n",
       "      <th>review_exclaims</th>\n",
       "      <th>New_Rating</th>\n",
       "    </tr>\n",
       "  </thead>\n",
       "  <tbody>\n",
       "    <tr>\n",
       "      <th>0</th>\n",
       "      <td>37489</td>\n",
       "      <td>si7I-78ZlyZJJ0XNLk0QKA</td>\n",
       "      <td>2.0</td>\n",
       "      <td>0</td>\n",
       "      <td>4.0</td>\n",
       "      <td>146</td>\n",
       "      <td>0</td>\n",
       "      <td>0</td>\n",
       "      <td>0</td>\n",
       "      <td>0</td>\n",
       "      <td>...</td>\n",
       "      <td>0</td>\n",
       "      <td>0</td>\n",
       "      <td>0</td>\n",
       "      <td>0</td>\n",
       "      <td>0</td>\n",
       "      <td>0</td>\n",
       "      <td>0.000000</td>\n",
       "      <td>74</td>\n",
       "      <td>0</td>\n",
       "      <td>0</td>\n",
       "    </tr>\n",
       "    <tr>\n",
       "      <th>1</th>\n",
       "      <td>4737</td>\n",
       "      <td>zl_CUtQu8Kch8G4-81dybg</td>\n",
       "      <td>1.0</td>\n",
       "      <td>0</td>\n",
       "      <td>8.0</td>\n",
       "      <td>91</td>\n",
       "      <td>0</td>\n",
       "      <td>0</td>\n",
       "      <td>0</td>\n",
       "      <td>0</td>\n",
       "      <td>...</td>\n",
       "      <td>0</td>\n",
       "      <td>0</td>\n",
       "      <td>0</td>\n",
       "      <td>0</td>\n",
       "      <td>0</td>\n",
       "      <td>0</td>\n",
       "      <td>0.037037</td>\n",
       "      <td>27</td>\n",
       "      <td>0</td>\n",
       "      <td>0</td>\n",
       "    </tr>\n",
       "    <tr>\n",
       "      <th>2</th>\n",
       "      <td>16656</td>\n",
       "      <td>0yC3XHXfT64Lg4L9puKPYA</td>\n",
       "      <td>5.0</td>\n",
       "      <td>0</td>\n",
       "      <td>43.0</td>\n",
       "      <td>439</td>\n",
       "      <td>0</td>\n",
       "      <td>0</td>\n",
       "      <td>0</td>\n",
       "      <td>0</td>\n",
       "      <td>...</td>\n",
       "      <td>0</td>\n",
       "      <td>0</td>\n",
       "      <td>0</td>\n",
       "      <td>0</td>\n",
       "      <td>0</td>\n",
       "      <td>0</td>\n",
       "      <td>0.035714</td>\n",
       "      <td>84</td>\n",
       "      <td>4</td>\n",
       "      <td>1</td>\n",
       "    </tr>\n",
       "    <tr>\n",
       "      <th>3</th>\n",
       "      <td>14025</td>\n",
       "      <td>F2PbVEVwAwXdk2c9T8qvxA</td>\n",
       "      <td>5.0</td>\n",
       "      <td>0</td>\n",
       "      <td>17.0</td>\n",
       "      <td>78</td>\n",
       "      <td>0</td>\n",
       "      <td>0</td>\n",
       "      <td>0</td>\n",
       "      <td>0</td>\n",
       "      <td>...</td>\n",
       "      <td>0</td>\n",
       "      <td>0</td>\n",
       "      <td>0</td>\n",
       "      <td>0</td>\n",
       "      <td>0</td>\n",
       "      <td>0</td>\n",
       "      <td>0.129032</td>\n",
       "      <td>31</td>\n",
       "      <td>0</td>\n",
       "      <td>1</td>\n",
       "    </tr>\n",
       "    <tr>\n",
       "      <th>4</th>\n",
       "      <td>6088</td>\n",
       "      <td>SvM0wsD5b1s3jYCqlMXc6A</td>\n",
       "      <td>5.0</td>\n",
       "      <td>0</td>\n",
       "      <td>14.0</td>\n",
       "      <td>163</td>\n",
       "      <td>0</td>\n",
       "      <td>0</td>\n",
       "      <td>0</td>\n",
       "      <td>0</td>\n",
       "      <td>...</td>\n",
       "      <td>0</td>\n",
       "      <td>0</td>\n",
       "      <td>0</td>\n",
       "      <td>0</td>\n",
       "      <td>0</td>\n",
       "      <td>1</td>\n",
       "      <td>0.050000</td>\n",
       "      <td>80</td>\n",
       "      <td>4</td>\n",
       "      <td>1</td>\n",
       "    </tr>\n",
       "    <tr>\n",
       "      <th>...</th>\n",
       "      <td>...</td>\n",
       "      <td>...</td>\n",
       "      <td>...</td>\n",
       "      <td>...</td>\n",
       "      <td>...</td>\n",
       "      <td>...</td>\n",
       "      <td>...</td>\n",
       "      <td>...</td>\n",
       "      <td>...</td>\n",
       "      <td>...</td>\n",
       "      <td>...</td>\n",
       "      <td>...</td>\n",
       "      <td>...</td>\n",
       "      <td>...</td>\n",
       "      <td>...</td>\n",
       "      <td>...</td>\n",
       "      <td>...</td>\n",
       "      <td>...</td>\n",
       "      <td>...</td>\n",
       "      <td>...</td>\n",
       "      <td>...</td>\n",
       "    </tr>\n",
       "    <tr>\n",
       "      <th>9995</th>\n",
       "      <td>789</td>\n",
       "      <td>AAdF7a3mofklpGWIMNZEeA</td>\n",
       "      <td>3.0</td>\n",
       "      <td>0</td>\n",
       "      <td>101.0</td>\n",
       "      <td>88</td>\n",
       "      <td>0</td>\n",
       "      <td>0</td>\n",
       "      <td>0</td>\n",
       "      <td>0</td>\n",
       "      <td>...</td>\n",
       "      <td>1</td>\n",
       "      <td>0</td>\n",
       "      <td>0</td>\n",
       "      <td>0</td>\n",
       "      <td>0</td>\n",
       "      <td>0</td>\n",
       "      <td>0.022222</td>\n",
       "      <td>45</td>\n",
       "      <td>0</td>\n",
       "      <td>0</td>\n",
       "    </tr>\n",
       "    <tr>\n",
       "      <th>9996</th>\n",
       "      <td>6742</td>\n",
       "      <td>Hc2tC2TDMD1wDjp8aCq7jA</td>\n",
       "      <td>5.0</td>\n",
       "      <td>0</td>\n",
       "      <td>116.0</td>\n",
       "      <td>39</td>\n",
       "      <td>0</td>\n",
       "      <td>0</td>\n",
       "      <td>0</td>\n",
       "      <td>1</td>\n",
       "      <td>...</td>\n",
       "      <td>0</td>\n",
       "      <td>0</td>\n",
       "      <td>0</td>\n",
       "      <td>0</td>\n",
       "      <td>1</td>\n",
       "      <td>0</td>\n",
       "      <td>0.022989</td>\n",
       "      <td>90</td>\n",
       "      <td>2</td>\n",
       "      <td>1</td>\n",
       "    </tr>\n",
       "    <tr>\n",
       "      <th>9997</th>\n",
       "      <td>8964</td>\n",
       "      <td>6I1K99wyXydmmjTo4dHnaA</td>\n",
       "      <td>5.0</td>\n",
       "      <td>0</td>\n",
       "      <td>26.0</td>\n",
       "      <td>98</td>\n",
       "      <td>0</td>\n",
       "      <td>0</td>\n",
       "      <td>0</td>\n",
       "      <td>0</td>\n",
       "      <td>...</td>\n",
       "      <td>0</td>\n",
       "      <td>0</td>\n",
       "      <td>0</td>\n",
       "      <td>0</td>\n",
       "      <td>0</td>\n",
       "      <td>0</td>\n",
       "      <td>0.044944</td>\n",
       "      <td>90</td>\n",
       "      <td>0</td>\n",
       "      <td>1</td>\n",
       "    </tr>\n",
       "    <tr>\n",
       "      <th>9998</th>\n",
       "      <td>35469</td>\n",
       "      <td>ZjujPQLZZk4R9MCFNp7dBA</td>\n",
       "      <td>5.0</td>\n",
       "      <td>0</td>\n",
       "      <td>8.0</td>\n",
       "      <td>115</td>\n",
       "      <td>0</td>\n",
       "      <td>0</td>\n",
       "      <td>0</td>\n",
       "      <td>0</td>\n",
       "      <td>...</td>\n",
       "      <td>0</td>\n",
       "      <td>0</td>\n",
       "      <td>0</td>\n",
       "      <td>0</td>\n",
       "      <td>0</td>\n",
       "      <td>1</td>\n",
       "      <td>0.172414</td>\n",
       "      <td>29</td>\n",
       "      <td>4</td>\n",
       "      <td>1</td>\n",
       "    </tr>\n",
       "    <tr>\n",
       "      <th>9999</th>\n",
       "      <td>28725</td>\n",
       "      <td>UpDvUJ_trxNr6hSw4KfdNw</td>\n",
       "      <td>4.0</td>\n",
       "      <td>0</td>\n",
       "      <td>8.0</td>\n",
       "      <td>41</td>\n",
       "      <td>0</td>\n",
       "      <td>0</td>\n",
       "      <td>0</td>\n",
       "      <td>0</td>\n",
       "      <td>...</td>\n",
       "      <td>0</td>\n",
       "      <td>1</td>\n",
       "      <td>0</td>\n",
       "      <td>0</td>\n",
       "      <td>0</td>\n",
       "      <td>0</td>\n",
       "      <td>-0.027027</td>\n",
       "      <td>75</td>\n",
       "      <td>1</td>\n",
       "      <td>1</td>\n",
       "    </tr>\n",
       "  </tbody>\n",
       "</table>\n",
       "<p>10000 rows × 34 columns</p>\n",
       "</div>"
      ],
      "text/plain": [
       "      REST_ID                  UserId  Rating  rev_elite  rev_reviews  \\\n",
       "0       37489  si7I-78ZlyZJJ0XNLk0QKA     2.0          0          4.0   \n",
       "1        4737  zl_CUtQu8Kch8G4-81dybg     1.0          0          8.0   \n",
       "2       16656  0yC3XHXfT64Lg4L9puKPYA     5.0          0         43.0   \n",
       "3       14025  F2PbVEVwAwXdk2c9T8qvxA     5.0          0         17.0   \n",
       "4        6088  SvM0wsD5b1s3jYCqlMXc6A     5.0          0         14.0   \n",
       "...       ...                     ...     ...        ...          ...   \n",
       "9995      789  AAdF7a3mofklpGWIMNZEeA     3.0          0        101.0   \n",
       "9996     6742  Hc2tC2TDMD1wDjp8aCq7jA     5.0          0        116.0   \n",
       "9997     8964  6I1K99wyXydmmjTo4dHnaA     5.0          0         26.0   \n",
       "9998    35469  ZjujPQLZZk4R9MCFNp7dBA     5.0          0          8.0   \n",
       "9999    28725  UpDvUJ_trxNr6hSw4KfdNw     4.0          0          8.0   \n",
       "\n",
       "      rest_reviews  yr_2007  yr_2008  yr_2009  yr_2010  ...  chickenwings  \\\n",
       "0              146        0        0        0        0  ...             0   \n",
       "1               91        0        0        0        0  ...             0   \n",
       "2              439        0        0        0        0  ...             0   \n",
       "3               78        0        0        0        0  ...             0   \n",
       "4              163        0        0        0        0  ...             0   \n",
       "...            ...      ...      ...      ...      ...  ...           ...   \n",
       "9995            88        0        0        0        0  ...             1   \n",
       "9996            39        0        0        0        1  ...             0   \n",
       "9997            98        0        0        0        0  ...             0   \n",
       "9998           115        0        0        0        0  ...             0   \n",
       "9999            41        0        0        0        0  ...             0   \n",
       "\n",
       "      chinese  coffeetea  italian  mexican  pizza   valence  review_length  \\\n",
       "0           0          0        0        0      0  0.000000             74   \n",
       "1           0          0        0        0      0  0.037037             27   \n",
       "2           0          0        0        0      0  0.035714             84   \n",
       "3           0          0        0        0      0  0.129032             31   \n",
       "4           0          0        0        0      1  0.050000             80   \n",
       "...       ...        ...      ...      ...    ...       ...            ...   \n",
       "9995        0          0        0        0      0  0.022222             45   \n",
       "9996        0          0        0        1      0  0.022989             90   \n",
       "9997        0          0        0        0      0  0.044944             90   \n",
       "9998        0          0        0        0      1  0.172414             29   \n",
       "9999        1          0        0        0      0 -0.027027             75   \n",
       "\n",
       "      review_exclaims  New_Rating  \n",
       "0                   0           0  \n",
       "1                   0           0  \n",
       "2                   4           1  \n",
       "3                   0           1  \n",
       "4                   4           1  \n",
       "...               ...         ...  \n",
       "9995                0           0  \n",
       "9996                2           1  \n",
       "9997                0           1  \n",
       "9998                4           1  \n",
       "9999                1           1  \n",
       "\n",
       "[10000 rows x 34 columns]"
      ]
     },
     "execution_count": 6,
     "metadata": {},
     "output_type": "execute_result"
    }
   ],
   "source": [
    "#2) Recode ratings into a binary variable: rating < 4 --> 0; rating >= 4 --> 1\n",
    "def new_rating(rating):\n",
    "    if rating >= 4: \n",
    "        return 1 \n",
    "    else: \n",
    "        return 0 \n",
    "\n",
    "df[\"New_Rating\"] = df[\"Rating\"].apply(new_rating)\n",
    "df"
   ]
  },
  {
   "cell_type": "code",
   "execution_count": 7,
   "metadata": {},
   "outputs": [
    {
     "data": {
      "text/plain": [
       "1    6227\n",
       "0    3773\n",
       "Name: New_Rating, dtype: int64"
      ]
     },
     "execution_count": 7,
     "metadata": {},
     "output_type": "execute_result"
    }
   ],
   "source": [
    "df.New_Rating.value_counts()"
   ]
  },
  {
   "cell_type": "markdown",
   "metadata": {},
   "source": [
    "# Splitting Data\n",
    "The chosen predictive features have been reduce to 7 due to the processing speed limit:\n",
    "\n",
    "    rev_elite = \"elite\" status reviewer\n",
    "\n",
    "    rev_reviewers = reviewer # of prior reviews\n",
    "\n",
    "    rest_reviews = restaurant total # of reviews\n",
    "\n",
    "    cat_span = metric of spanning across distant cuisine categories (e.g., Korean-Mexican)\n",
    "\n",
    "    valence = semantic score of review text (larger #s are more positive)\n",
    "\n",
    "    review_length = # of words in review text\n",
    "\n",
    "    review_exclaims = # of exclamation marks in review text\n"
   ]
  },
  {
   "cell_type": "code",
   "execution_count": 8,
   "metadata": {},
   "outputs": [
    {
     "name": "stdout",
     "output_type": "stream",
     "text": [
      "training data: (8000, 7)\n",
      "test data: (2000, 7)\n"
     ]
    }
   ],
   "source": [
    "#3) Split the data into training and testing portions\n",
    "#Excluded \"Rating\" and \"New_Rating\" from xcols\n",
    "\n",
    "# train-test split\n",
    "# put all the predictive features in a list - reduced list due to processing speed \n",
    "\n",
    "xcols = ['rev_elite', 'rev_reviews','rest_reviews','cat_span','valence', 'review_length', 'review_exclaims']\n",
    "#xcols = df.columns[3 : 33].to_list()\n",
    "#print(xcols,'\\n')\n",
    "\n",
    "# split the data into training (80%) and testing (20%) portions\n",
    "# notes: train_test_split shuffles the data prior to splitting, so should be randomized\n",
    "# the 'random_state' feature ensures that you get the same split of the data every time\n",
    "X_train, X_test, y_train, y_test = train_test_split(df[xcols], df['New_Rating'], \n",
    "                                                    train_size=0.8, random_state=1)\n",
    "print('training data:', X_train.shape)\n",
    "print('test data:', X_test.shape)"
   ]
  },
  {
   "cell_type": "markdown",
   "metadata": {},
   "source": [
    "# Logistic Regression and SVM Model\n",
    "Estimating the new binary ratings variable with logistic regression and SVM models\n"
   ]
  },
  {
   "cell_type": "code",
   "execution_count": 9,
   "metadata": {},
   "outputs": [
    {
     "name": "stdout",
     "output_type": "stream",
     "text": [
      "training accuracy: 0.791\n",
      "test accuracy: 0.7805\n"
     ]
    }
   ],
   "source": [
    "# logistic regression\n",
    "# initialize the logistic regression model\n",
    "log_reg = LogisticRegression(solver='lbfgs', max_iter=2000)\n",
    "# fit the model to the training data\n",
    "clf = log_reg.fit(X_train, y_train)\n",
    "# get accuracy stats\n",
    "print('training accuracy: {}'.format(clf.score(X_train, y_train).round(4)))\n",
    "print('test accuracy: {}'.format(clf.score(X_test, y_test).round(4)))"
   ]
  },
  {
   "cell_type": "code",
   "execution_count": 10,
   "metadata": {},
   "outputs": [
    {
     "name": "stdout",
     "output_type": "stream",
     "text": [
      "training data: (8000, 7)\n",
      "test data: (2000, 7)\n"
     ]
    }
   ],
   "source": [
    "X_train, X_test, y_train, y_test = train_test_split(df[xcols], df['New_Rating'], \n",
    "                                                    train_size=0.8, random_state=1)\n",
    "print('training data:', X_train.shape)\n",
    "print('test data:', X_test.shape)"
   ]
  },
  {
   "cell_type": "code",
   "execution_count": 11,
   "metadata": {},
   "outputs": [],
   "source": [
    "#Increasing SVM speed\n",
    "from sklearn.preprocessing import MinMaxScaler\n",
    "scaling = MinMaxScaler(feature_range=(-1,1)).fit(X_train)\n",
    "X_train = scaling.transform(X_train)\n",
    "X_test = scaling.transform(X_test)"
   ]
  },
  {
   "cell_type": "code",
   "execution_count": 12,
   "metadata": {},
   "outputs": [
    {
     "name": "stdout",
     "output_type": "stream",
     "text": [
      "training accuracy: 0.794\n",
      "test accuracy: 0.785\n"
     ]
    }
   ],
   "source": [
    "# support vector machine\n",
    "#print(time.strftime(\"%a, %d %b %Y %H:%M:%S\", time.localtime()))\n",
    "svm = SVC(kernel = 'linear')\n",
    "#fit the model to the training data\n",
    "clf = svm.fit(X_train, y_train)\n",
    "# get accuracy stats\n",
    "print('training accuracy: {}'.format(clf.score(X_train, y_train).round(3)))\n",
    "print('test accuracy: {}'.format(clf.score(X_test, y_test).round(3)))\n",
    "#print(time.strftime(\"%a, %d %b %Y %H:%M:%S\", time.localtime()))"
   ]
  },
  {
   "cell_type": "markdown",
   "metadata": {},
   "source": [
    "Logistics Regression Model: \n",
    "\n",
    "    The accyaracy for training test for logistic regression is around 79% and the test accuracy is around 78%. \n",
    "      \n",
    "SVM model: \n",
    "\n",
    "    The accuracy for training test is around 79% and test accuracy is also around 79%. \n",
    "\n",
    "\n",
    "Overall, SVM Model shows slightly better accuracy across the training and test datasets. "
   ]
  },
  {
   "cell_type": "markdown",
   "metadata": {},
   "source": [
    "# Features with the largest magnitude "
   ]
  },
  {
   "cell_type": "code",
   "execution_count": 13,
   "metadata": {},
   "outputs": [
    {
     "name": "stdout",
     "output_type": "stream",
     "text": [
      "Two largest positive features:\n",
      "            feature  coefficient\n",
      "4          valence    10.349009\n",
      "6  review_exclaims     6.405867 \n",
      "\n",
      "Two largest negative features:\n",
      "          feature  coefficient\n",
      "1    rev_reviews    -0.425363\n",
      "5  review_length    -0.633936\n"
     ]
    }
   ],
   "source": [
    "coef = pd.concat([pd.DataFrame(xcols),pd.DataFrame(np.transpose(clf.coef_))], axis = 1)\n",
    "coef.columns = ['feature','coefficient']\n",
    "coef.sort_values(by=['coefficient'], ascending=False, inplace=True)\n",
    "# examine the features with the largest coefficients\n",
    "print('Two largest positive features:\\n', coef.head(2), '\\n')\n",
    "print('Two largest negative features:\\n', coef.tail(2))"
   ]
  },
  {
   "cell_type": "code",
   "execution_count": 14,
   "metadata": {},
   "outputs": [
    {
     "name": "stdout",
     "output_type": "stream",
     "text": [
      "['valence', 'review_exclaims', 'rev_reviews', 'review_length']\n"
     ]
    }
   ],
   "source": [
    "xcols2 = coef.feature[0:2].to_list()\n",
    "xcols2 += coef.feature[-2:].to_list()\n",
    "#xcols2 = ['rev_elite', 'rev_reviews','rest_reviews','cat_span','valence', 'review_length', 'review_exclaims']\n",
    "print(xcols2)"
   ]
  },
  {
   "cell_type": "code",
   "execution_count": 15,
   "metadata": {},
   "outputs": [
    {
     "name": "stdout",
     "output_type": "stream",
     "text": [
      "training data: (8000, 4)\n",
      "test data: (2000, 4)\n"
     ]
    }
   ],
   "source": [
    "#3) Split the data into training and testing portions\n",
    "#Excluded \"Rating\" and \"New_Rating\" from xcols\n",
    "\n",
    "# train-test split\n",
    "# put all the predictive features in a list\n",
    "#xcols = ['rev_elite', 'rev_reviews','rest_reviews','cat_span','valence', 'review_length', 'review_exclaims']\n",
    "#xcols = df.columns[3 : 33].to_list()\n",
    "#print(xcols,'\\n')\n",
    "\n",
    "# split the data into training (80%) and testing (20%) portions\n",
    "# notes: train_test_split shuffles the data prior to splitting, so should be randomized\n",
    "# the 'random_state' feature ensures that you get the same split of the data every time\n",
    "X_train, X_test, y_train, y_test = train_test_split(df[xcols2], df['New_Rating'], \n",
    "                                                    train_size=0.8, random_state=1)\n",
    "print('training data:', X_train.shape)\n",
    "print('test data:', X_test.shape)"
   ]
  },
  {
   "cell_type": "code",
   "execution_count": 16,
   "metadata": {},
   "outputs": [
    {
     "name": "stdout",
     "output_type": "stream",
     "text": [
      "training accuracy: 0.7896\n",
      "test accuracy: 0.78\n"
     ]
    }
   ],
   "source": [
    "# logistic regression\n",
    "# initialize the logistic regression model\n",
    "log_reg = LogisticRegression(solver='lbfgs', max_iter=2000)\n",
    "# fit the model to the training data\n",
    "clf = log_reg.fit(X_train, y_train)\n",
    "# get accuracy stats\n",
    "print('training accuracy: {}'.format(clf.score(X_train, y_train).round(4)))\n",
    "print('test accuracy: {}'.format(clf.score(X_test, y_test).round(4)))"
   ]
  },
  {
   "cell_type": "code",
   "execution_count": 17,
   "metadata": {},
   "outputs": [
    {
     "name": "stdout",
     "output_type": "stream",
     "text": [
      "training data: (8000, 4)\n",
      "test data: (2000, 4)\n"
     ]
    }
   ],
   "source": [
    "X_train, X_test, y_train, y_test = train_test_split(df[xcols2], df['New_Rating'], \n",
    "                                                    train_size=0.8, random_state=1)\n",
    "print('training data:', X_train.shape)\n",
    "print('test data:', X_test.shape)"
   ]
  },
  {
   "cell_type": "code",
   "execution_count": 18,
   "metadata": {},
   "outputs": [],
   "source": [
    "#Increasing SVM speed\n",
    "from sklearn.preprocessing import MinMaxScaler\n",
    "scaling = MinMaxScaler(feature_range=(-1,1)).fit(X_train)\n",
    "X_train = scaling.transform(X_train)\n",
    "X_test = scaling.transform(X_test)"
   ]
  },
  {
   "cell_type": "code",
   "execution_count": 19,
   "metadata": {
    "scrolled": true
   },
   "outputs": [
    {
     "name": "stdout",
     "output_type": "stream",
     "text": [
      "training accuracy: 0.792\n",
      "test accuracy: 0.784\n"
     ]
    }
   ],
   "source": [
    "# support vector machine\n",
    "#print(time.strftime(\"%a, %d %b %Y %H:%M:%S\", time.localtime()))\n",
    "svm = SVC(kernel = 'linear')\n",
    "#fit the model to the training data\n",
    "clf = svm.fit(X_train, y_train)\n",
    "# get accuracy stats\n",
    "print('training accuracy: {}'.format(clf.score(X_train, y_train).round(3)))\n",
    "print('test accuracy: {}'.format(clf.score(X_test, y_test).round(3)))\n",
    "#print(time.strftime(\"%a, %d %b %Y %H:%M:%S\", time.localtime()))"
   ]
  },
  {
   "cell_type": "markdown",
   "metadata": {},
   "source": [
    "When we reduce the model to the  2 largest positive and 2 largest negative magnitude features the regression/SVM training and testing accuracy get sligtly smaller.\n"
   ]
  },
  {
   "cell_type": "markdown",
   "metadata": {},
   "source": [
    "# Comparing results with different values of the C parameter"
   ]
  },
  {
   "cell_type": "code",
   "execution_count": 20,
   "metadata": {},
   "outputs": [
    {
     "name": "stdout",
     "output_type": "stream",
     "text": [
      "C = 0.001\n",
      "training accuracy: 0.625\n",
      "test accuracy: 0.614 \n",
      "\n",
      "C = 0.01\n",
      "training accuracy: 0.631\n",
      "test accuracy: 0.617 \n",
      "\n",
      "C = 0.1\n",
      "training accuracy: 0.79\n",
      "test accuracy: 0.785 \n",
      "\n",
      "C = 1\n",
      "training accuracy: 0.792\n",
      "test accuracy: 0.784 \n",
      "\n",
      "C = 10\n",
      "training accuracy: 0.794\n",
      "test accuracy: 0.783 \n",
      "\n"
     ]
    }
   ],
   "source": [
    "# regularization w/ the C parameter (note: default C = 1)\n",
    "cset = [.001, .01, .1, 1, 10]\n",
    "for i in cset:\n",
    "    print('C =', i)\n",
    "    svm = SVC(kernel = 'linear', C = i)\n",
    "    clf = svm.fit(X_train, y_train)\n",
    "    print('training accuracy: {}'.format(clf.score(X_train, y_train).round(3)))\n",
    "    print('test accuracy: {}'.format(clf.score(X_test, y_test).round(3)), '\\n')"
   ]
  },
  {
   "cell_type": "markdown",
   "metadata": {},
   "source": [
    "When C= 0.1 we get the best accuracy for test dataset with 78.5% accuracy \n"
   ]
  },
  {
   "cell_type": "code",
   "execution_count": 21,
   "metadata": {},
   "outputs": [
    {
     "name": "stdout",
     "output_type": "stream",
     "text": [
      "[0.739  0.744  0.751  0.736  0.7465]\n",
      "Accuracy: 0.74 (+/- 0.01)\n"
     ]
    }
   ],
   "source": [
    "# cross-validation w/ SVM\n",
    "svm = SVC(kernel = 'linear', C = .1)\n",
    "scores = cross_val_score(svm, df[xcols2], df['New_Rating'], cv=5)\n",
    "print(scores)\n",
    "print(\"Accuracy: %0.2f (+/- %0.2f)\" % (scores.mean(), scores.std() * 2))"
   ]
  },
  {
   "cell_type": "markdown",
   "metadata": {},
   "source": [
    "With K=5 folds and C = .1 we get a model accuracy of around 74% "
   ]
  },
  {
   "cell_type": "code",
   "execution_count": 22,
   "metadata": {},
   "outputs": [
    {
     "name": "stdout",
     "output_type": "stream",
     "text": [
      "C = 0.001\n",
      "training accuracy: 0.625\n",
      "test accuracy: 0.614 \n",
      "\n",
      "C = 0.01\n",
      "training accuracy: 0.66\n",
      "test accuracy: 0.642 \n",
      "\n",
      "C = 0.1\n",
      "training accuracy: 0.785\n",
      "test accuracy: 0.78 \n",
      "\n",
      "C = 1\n",
      "training accuracy: 0.791\n",
      "test accuracy: 0.785 \n",
      "\n",
      "C = 10\n",
      "training accuracy: 0.794\n",
      "test accuracy: 0.783 \n",
      "\n"
     ]
    }
   ],
   "source": [
    "# regularization w/ logistic regression\n",
    "# regularization w/ the C parameter (note: default C = 1)\n",
    "cset = [.001, .01, .1, 1, 10]\n",
    "for i in cset:\n",
    "    print('C =', i)\n",
    "    log_reg = LogisticRegression(solver='lbfgs', max_iter=1000, C=i)\n",
    "    clf = log_reg.fit(X_train, y_train)\n",
    "    print('training accuracy: {}'.format(clf.score(X_train, y_train).round(3)))\n",
    "    print('test accuracy: {}'.format(clf.score(X_test, y_test).round(3)), '\\n')"
   ]
  },
  {
   "cell_type": "markdown",
   "metadata": {},
   "source": [
    "With logistic Regression the best accuracy is achived when C= 1 as well. C= 1 gives us a test dataset accuracy of around 78.5%"
   ]
  },
  {
   "cell_type": "code",
   "execution_count": 23,
   "metadata": {},
   "outputs": [
    {
     "name": "stdout",
     "output_type": "stream",
     "text": [
      "C = 0.001\n",
      "[0.6345 0.6535 0.6485 0.637  0.641 ]\n",
      "Accuracy: 0.643 (+/- 0.014) \n",
      "\n",
      "C = 0.01\n",
      "[0.639  0.657  0.655  0.6435 0.6485]\n",
      "Accuracy: 0.649 (+/- 0.014) \n",
      "\n",
      "C = 0.1\n",
      "[0.719  0.737  0.7375 0.7295 0.7375]\n",
      "Accuracy: 0.732 (+/- 0.014) \n",
      "\n",
      "C = 1\n",
      "[0.782  0.7875 0.8005 0.7785 0.8025]\n",
      "Accuracy: 0.790 (+/- 0.019) \n",
      "\n",
      "C = 10\n",
      "[0.7895 0.7835 0.803  0.7745 0.804 ]\n",
      "Accuracy: 0.791 (+/- 0.023) \n",
      "\n"
     ]
    }
   ],
   "source": [
    "# cross-validation w/ tuning regularization in logistic regression\n",
    "for i in cset:\n",
    "    print('C =', i)\n",
    "    log_reg = LogisticRegression(solver='lbfgs', max_iter=3000, C= i)\n",
    "    scores = cross_val_score(log_reg, df[xcols2], df['New_Rating'], cv=5)\n",
    "    print(scores)\n",
    "    print(\"Accuracy: %0.3f (+/- %0.3f)\" % (scores.mean(), scores.std() * 2), '\\n')"
   ]
  },
  {
   "cell_type": "markdown",
   "metadata": {},
   "source": [
    "C= 10 provides the best model accuracy with around 79%. However, it has a large SD score. When C= 1 it only has 0.001 smaller accuracy but has a smaller standard deciation. In this case I would choose the model with a smaller standar deviation. "
   ]
  },
  {
   "cell_type": "markdown",
   "metadata": {},
   "source": [
    "# Probabilities and Model Confidence "
   ]
  },
  {
   "cell_type": "code",
   "execution_count": 24,
   "metadata": {},
   "outputs": [],
   "source": [
    "# train the best model for prediction and/or validation\n",
    "log_reg = LogisticRegression(solver='lbfgs', max_iter=3000, C=1)\n",
    "# train it on all the data\n",
    "clf = log_reg.fit(df[xcols2], df['New_Rating'])"
   ]
  },
  {
   "cell_type": "code",
   "execution_count": 28,
   "metadata": {},
   "outputs": [
    {
     "name": "stdout",
     "output_type": "stream",
     "text": [
      "Values for features w/ positive coefficients:\n",
      "  valence : 0.11355222724481241\n",
      "  review_exclaims : 3.5952307302276267\n",
      "\n",
      "Values for features w/ negative coefficients:\n",
      "  rev_reviews : -193.12323289714135\n",
      "  review_length : 10.58001415805289\n"
     ]
    }
   ],
   "source": [
    "# get a list of values for each feature that we can use to retrieve a prediction\n",
    "vals = []\n",
    "print('Values for features w/ positive coefficients:')\n",
    "for i in xcols2[0:2]:\n",
    "    val = df[i].mean() + df[i].std()\n",
    "    print(' ', i, ':', val)\n",
    "    vals.append(val)\n",
    "    \n",
    "print('\\nValues for features w/ negative coefficients:')\n",
    "for i in xcols2[2:4]:\n",
    "    val = df[i].mean() - df[i].std()\n",
    "    print(' ', i, ':', val)\n",
    "    vals.append(val)"
   ]
  },
  {
   "cell_type": "code",
   "execution_count": 30,
   "metadata": {},
   "outputs": [
    {
     "name": "stdout",
     "output_type": "stream",
     "text": [
      "predicted class: 1\n",
      "probability for 0 and 1 classes: [0.05960662 0.94039338]\n",
      "probability for class 1: 0.9403933846334599\n"
     ]
    }
   ],
   "source": [
    "# get predictions and probabilities\n",
    "ypred = clf.predict([vals])\n",
    "yprob = clf.predict_proba([vals])\n",
    "print('predicted class:', ypred[0])\n",
    "print('probability for 0 and 1 classes:', yprob[0])\n",
    "print('probability for class 1:', yprob[0][1])"
   ]
  },
  {
   "cell_type": "markdown",
   "metadata": {},
   "source": [
    "Our model is 94% confident that if a business on yelp has the above values then they will have a positive rating of 4 and above. "
   ]
  },
  {
   "cell_type": "code",
   "execution_count": 31,
   "metadata": {},
   "outputs": [
    {
     "name": "stdout",
     "output_type": "stream",
     "text": [
      "predicted class: 1\n",
      "probability for 0 and 1 classes: [0.02980898 0.97019102]\n",
      "probability for class 1: 0.9701910224708528\n"
     ]
    }
   ],
   "source": [
    "# predictions for SVM\n",
    "# note: set feature probability to True to retrieve prediction probabilities\n",
    "svm = SVC(kernel = 'linear', C = .1 , probability=True)\n",
    "clf = svm.fit(df[xcols2], df['New_Rating'])\n",
    "ypred = clf.predict([vals])\n",
    "yprob = clf.predict_proba([vals])\n",
    "print('predicted class:', ypred[0])\n",
    "print('probability for 0 and 1 classes:', yprob[0])\n",
    "print('probability for class 1:', yprob[0][1])"
   ]
  },
  {
   "cell_type": "markdown",
   "metadata": {},
   "source": [
    "Our SVM model is 97% confident that if a yelp business has the above 4 values they will have positive rating of 4 and above"
   ]
  }
 ],
 "metadata": {
  "kernelspec": {
   "display_name": "Python 3",
   "language": "python",
   "name": "python3"
  }
 },
 "nbformat": 4,
 "nbformat_minor": 4
}
